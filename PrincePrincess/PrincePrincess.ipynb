{
  "cells": [
    {
      "cell_type": "markdown",
      "metadata": {
        "id": "view-in-github",
        "colab_type": "text"
      },
      "source": [
        "<a href=\"https://colab.research.google.com/github/tahsina13/Puzzle-Book/blob/main/PrincePrincess/PrincePrincess.ipynb\" target=\"_parent\"><img src=\"https://colab.research.google.com/assets/colab-badge.svg\" alt=\"Open In Colab\"/></a>"
      ]
    },
    {
      "cell_type": "markdown",
      "metadata": {
        "id": "rYy6e-HNKRd2"
      },
      "source": [
        "# Prince and Princess Problem"
      ]
    },
    {
      "cell_type": "markdown",
      "metadata": {
        "id": "dfFwYePQlH06"
      },
      "source": [
        "Problem Statement:\n",
        "\n",
        "> Long long ago there lived a beautiful and intelligent princess who was obsessed with mathematics . When the time came she decided to marry one of the two most intelli- gent and good - natured princes : A and B. The two princes were called to the court and were asked to stand in front of the princess .\n",
        "\n",
        "> A natural number was written on the crown of each prince . No prince could see the number on his own crown but he could see the number written on the other crown . The princess wrote two distinct natural numbers on a board and announced that one of the board numbers is the sum of the numbers written on their crowns . The princess would ask prince A : \" do you know the number written on your crown ? \" If A's answer was \" no \" , the princess would ask prince B the same question . If B's answer was \" no \" , the princess would ask prince A the same question . This process would continue in the cyclic order A , B , A , B , …… . until a prince answers \" yes \" . The prince who would correctly guess the number written on his crown would win the opportunity to marry the princess .\n",
        "\n",
        "> The assumptions in the problem are : the two princes were equally intelligent and truthful , no other form of communication was allowed , and each prince was able to hear the answer of the other prince . What happened eventually ? Did the princess get married ? If no , how ? If yes , to whom ?\n",
        "\n",
        "> The counterintuitive result is that the princess got married eventually to one of the two princes ! How is this possible ?\n",
        "\n",
        "-- [Puzzle Book](https://https://www.google.com/books/edition/Mathematical_and_Algorithmic_Puzzles/C7q6EAAAQBAJ?hl=en&gbpv=0&kptab=getbook), pg. 100"
      ]
    },
    {
      "cell_type": "code",
      "execution_count": null,
      "metadata": {
        "id": "MwybDryzFAd4"
      },
      "outputs": [],
      "source": [
        "# Generate all possible partitions of x with n princes\n",
        "def partitions(n, x):\n",
        "    if n == 1:\n",
        "        return [[x]]\n",
        "    all = []\n",
        "    for i in range(1, x-n+2):\n",
        "        sub = partitions(n-1, x-i)\n",
        "        all.extend([tuple(list(s) + [i]) for s in sub])\n",
        "    return all\n",
        "\n",
        "# Generate all possible paritions for set of xs\n",
        "def all_partitions(n, xs):\n",
        "    all = []\n",
        "    for x in xs:\n",
        "        all.extend(partitions(n, x))\n",
        "    return all"
      ]
    },
    {
      "cell_type": "markdown",
      "metadata": {
        "id": "AkNBjVEdcPIm"
      },
      "source": [
        "## Method 1: Decision Tree"
      ]
    },
    {
      "cell_type": "code",
      "execution_count": null,
      "metadata": {
        "id": "eL2tspgLCNRE"
      },
      "outputs": [],
      "source": [
        "import itertools\n",
        "from collections import namedtuple, deque"
      ]
    },
    {
      "cell_type": "code",
      "execution_count": null,
      "metadata": {
        "cellView": "form",
        "id": "BbPQGDFA3Jox"
      },
      "outputs": [],
      "source": [
        "#@title Two Princes Decision Tree\n",
        "def two_princes_decision_tree(a, b, s1, s2, stats={}):\n",
        "    stats['ops'] = 0\n",
        "    if s1 > s2:\n",
        "        s1 = s2, s2 = s1\n",
        "    d = s2 - s1\n",
        "    questions = 1\n",
        "    for k in itertools.count(start=1):\n",
        "        stats['ops'] += 1\n",
        "\n",
        "        # Elimination of Prince A\n",
        "        stats['ops'] += 1\n",
        "        if b <= (k-1)*d:\n",
        "            # A computes a = s1-b\n",
        "            break\n",
        "        stats['ops'] += 1\n",
        "        if b >= s1 - (k-1)*d:\n",
        "            # A computes a = s2-b\n",
        "            break\n",
        "        # B concludes b in ((k-1)d, s1-(k-1)d)\n",
        "        questions += 1\n",
        "\n",
        "        # Elimination of Prince B\n",
        "        stats['ops'] += 1\n",
        "        if a <= k*d:\n",
        "            # B computes b = s1-a\n",
        "            break\n",
        "        stats['ops'] += 1\n",
        "        if a >= s1 - (k-1)*d:\n",
        "            # B computes b = s2-a\n",
        "            break\n",
        "        # A concludes a in (kd, s1-(k-1)d)\n",
        "        questions += 1\n",
        "    return questions"
      ]
    },
    {
      "cell_type": "code",
      "execution_count": null,
      "metadata": {
        "cellView": "form",
        "id": "x2ZSs71jWAAN"
      },
      "outputs": [],
      "source": [
        "#@title All Two Princes Decision Tree\n",
        "def all_two_princes_decision_tree(s1, s2):\n",
        "    if s1 > s2:\n",
        "        s1 = s2, s2 = s1\n",
        "    d = s2 - s1\n",
        "    Princes = namedtuple('Princes', ['a', 'b'])\n",
        "    s1_sums = deque([Princes(i, s1-i) for i in range(1, s1)])\n",
        "    s2_sums = deque([Princes(i, s2-i) for i in range(1, s2)])\n",
        "    all_questions = {}\n",
        "    questions = 1\n",
        "    for k in itertools.count(start=1):\n",
        "        # Elimination of Prince A\n",
        "        while s1_sums and s1_sums[-1].b <= (k-1)*d:\n",
        "            all_questions[s1_sums.pop()] = questions\n",
        "        while s2_sums and s2_sums[-1].b <= (k-1)*d:\n",
        "            all_questions[s2_sums.pop()] = questions\n",
        "        while s1_sums and s1_sums[0].b >= s1 - (k-1)*d:\n",
        "            all_questions[s1_sums.popleft()] = questions\n",
        "        while s2_sums and s2_sums[0].b >= s1 - (k-1)*d:\n",
        "            all_questions[s2_sums.popleft()] = questions\n",
        "        questions += 1\n",
        "\n",
        "        # Elimination of Prince B\n",
        "        while s1_sums and s1_sums[0].a <= k*d:\n",
        "            all_questions[s1_sums.popleft()] = questions\n",
        "        while s2_sums and s2_sums[0].a <= k*d:\n",
        "            all_questions[s2_sums.popleft()] = questions\n",
        "        while s1_sums and s1_sums[-1].a >= s1 - (k-1)*d:\n",
        "            all_questions[s1_sums.pop()] = questions\n",
        "        while s2_sums and s2_sums[-1].a >= s1 - (k-1)*d:\n",
        "            all_questions[s2_sums.pop()] = questions\n",
        "        questions += 1\n",
        "\n",
        "        if not s1_sums and not s2_sums:\n",
        "            break\n",
        "    return all_questions"
      ]
    },
    {
      "cell_type": "markdown",
      "metadata": {
        "id": "OllCiSSg6bC7"
      },
      "source": [
        "## Method 2: Questions"
      ]
    },
    {
      "cell_type": "code",
      "execution_count": null,
      "metadata": {
        "id": "mdfSMPf6CI7R"
      },
      "outputs": [],
      "source": [
        "import math"
      ]
    },
    {
      "cell_type": "code",
      "execution_count": null,
      "metadata": {
        "id": "gj-yLehB_y6j",
        "cellView": "form"
      },
      "outputs": [],
      "source": [
        "#@title Two Princes Questions\n",
        "def two_princes_questions(a, b, s1, s2, stats={}):\n",
        "    stats['ops'] = 0\n",
        "    if s1 > s2:\n",
        "        s1 = s2, s2 = s1\n",
        "    d = s2 - s1\n",
        "    stats['ops'] += 1\n",
        "    if b >= s1:\n",
        "        return 1\n",
        "    stats['ops'] += 1\n",
        "    if a >= s1:\n",
        "        return 2\n",
        "    stats['ops'] += 3\n",
        "    ka = min(math.ceil(b/d)+1, math.ceil((s1-b)/d)+1)\n",
        "    kb = min(math.ceil(a/d), math.ceil((s1-a)/d)+1)\n",
        "    questions = min(2*ka-1, 2*kb)\n",
        "    return questions"
      ]
    },
    {
      "cell_type": "code",
      "execution_count": null,
      "metadata": {
        "id": "nVtN-wKR48FO",
        "cellView": "form"
      },
      "outputs": [],
      "source": [
        "#@title All Two Princes Questions\n",
        "def all_two_princes_questions(s1, s2):\n",
        "    all_pairs = all_partitions(2, [s1, s2])\n",
        "    return {p:two_princes_questions(p[0], p[1], s1, s2) for p in all_pairs}"
      ]
    },
    {
      "cell_type": "markdown",
      "metadata": {
        "id": "o0ThUYZ1cf4b"
      },
      "source": [
        "## Method 3: Conway-Peterson Elimination"
      ]
    },
    {
      "cell_type": "markdown",
      "metadata": {
        "id": "KyFiL2p97bxM"
      },
      "source": [
        "### Two Princes"
      ]
    },
    {
      "cell_type": "code",
      "execution_count": null,
      "metadata": {
        "cellView": "form",
        "id": "KvFUxu2zmI9g"
      },
      "outputs": [],
      "source": [
        "#@title Two Princes Elimination\n",
        "def two_princes_elimination(a, b, s1, s2, stats={}):\n",
        "    stats['ops'] = 0\n",
        "    all_pairs = set(all_partitions(2, [s1, s2]))\n",
        "    questions = 1\n",
        "    while True:\n",
        "        stats['ops'] += 1\n",
        "\n",
        "        # Elimination of Prince A\n",
        "        elim_pairs_a = set()\n",
        "        for (p, q) in all_pairs:\n",
        "            stats['ops'] += 1\n",
        "\n",
        "            stats['ops'] += 1 + (3 if p + q == s1 else 0)\n",
        "            if p + q == s1 and (p == s2-q or (s2-q, q) not in all_pairs):\n",
        "                stats['ops'] += 2\n",
        "                elim_pairs_a.add((p, q))\n",
        "                stats['ops'] += 1 + (1 if p == a else 0)\n",
        "                if (p, q) == (a, b):\n",
        "                    break\n",
        "\n",
        "            stats['ops'] += 1 + (3 if p + q == s2 else 0)\n",
        "            if p + q == s2 and (p == s1-q or (s1-q, q) not in all_pairs):\n",
        "                stats['ops'] += 2\n",
        "                elim_pairs_a.add((p, q))\n",
        "                stats['ops'] += 1 + (1 if p == a else 0)\n",
        "                if (p, q) == (a, b):\n",
        "                    break\n",
        "\n",
        "        stats['ops'] += 3\n",
        "        if (a, b) in elim_pairs_a:\n",
        "            break\n",
        "        stats['ops'] += 2*len(elim_pairs_a)\n",
        "        all_pairs -= elim_pairs_a\n",
        "        questions += 1\n",
        "\n",
        "        # Elimination of Prince B\n",
        "        elim_pairs_b = set()\n",
        "        for (p, q) in all_pairs:\n",
        "            stats['ops'] += 1\n",
        "\n",
        "            stats['ops'] += 1 + (3 if p + q == s1 else 0)\n",
        "            if p + q == s1 and (q == s2-p or (p, s2-p) not in all_pairs):\n",
        "                stats['ops'] += 2\n",
        "                elim_pairs_b.add((p, q))\n",
        "                stats['ops'] += 1 + (1 if p == a else 0)\n",
        "                if (p, q) == (a, b):\n",
        "                    break\n",
        "\n",
        "            stats['ops'] += 1 + (3 if p + q == s2 else 0)\n",
        "            if p + q == s2 and (q == s1-p or (p, s1-p) not in all_pairs):\n",
        "                stats['ops'] += 2\n",
        "                elim_pairs_b.add((p, q))\n",
        "                stats['ops'] += 1 + (1 if p == a else 0)\n",
        "                if (p, q) == (a, b):\n",
        "                    break\n",
        "\n",
        "        stats['ops'] += 3\n",
        "        if (a, b) in elim_pairs_b:\n",
        "            break\n",
        "        stats['ops'] += 2*len(elim_pairs_b)\n",
        "        all_pairs -= elim_pairs_b\n",
        "        questions += 1\n",
        "    return questions"
      ]
    },
    {
      "cell_type": "code",
      "execution_count": null,
      "metadata": {
        "cellView": "form",
        "id": "HBZJ5Z0K6NRY"
      },
      "outputs": [],
      "source": [
        "#@title All Two Princes Elimination\n",
        "def all_two_princes_elimination(s1, s2):\n",
        "    all_pairs = set(all_partitions(2, [s1, s2]))\n",
        "    all_questions = {}\n",
        "    questions = 1\n",
        "    while all_pairs:\n",
        "        # Elimination of Prince A\n",
        "        elim_pairs_a = set()\n",
        "        for (p, q) in all_pairs:\n",
        "            if p + q == s1 and (p == s2-q or (s2-q, q) not in all_pairs):\n",
        "                elim_pairs_a.add((p, q))\n",
        "            if p + q == s2 and (p == s1-q or (s1-q, q) not in all_pairs):\n",
        "                elim_pairs_a.add((p, q))\n",
        "        all_pairs -= elim_pairs_a\n",
        "        all_questions.update({p:questions for p in elim_pairs_a})\n",
        "        questions += 1\n",
        "\n",
        "        # Elimination of Prince B\n",
        "        elim_pairs_b = set()\n",
        "        for (p, q) in all_pairs:\n",
        "            if p + q == s1 and (q == s2-p or (p, s2-p) not in all_pairs):\n",
        "                elim_pairs_b.add((p, q))\n",
        "            if p + q == s2 and (q == s1-p or (p, s1-p) not in all_pairs):\n",
        "                elim_pairs_b.add((p, q))\n",
        "        all_pairs -= elim_pairs_b\n",
        "        all_questions.update({p:questions for p in elim_pairs_b})\n",
        "        questions += 1\n",
        "    return all_questions"
      ]
    },
    {
      "cell_type": "markdown",
      "metadata": {
        "id": "eAtQRxap7gHf"
      },
      "source": [
        "### N Princes"
      ]
    },
    {
      "cell_type": "code",
      "execution_count": null,
      "metadata": {
        "id": "Bo3eqV7F60yu"
      },
      "outputs": [],
      "source": [
        "def get_elim_tuples(sums, all, index):\n",
        "    elim_tuples = set()\n",
        "    for p in all:\n",
        "        total = sum(p) - p[index]\n",
        "        twins_count = 0\n",
        "        for s in sums:\n",
        "            if s-total == p[index]:\n",
        "                continue\n",
        "            q = tuple(list(p[:index]) + [s-total] + list(p[index+1:]))\n",
        "            twins_count += q in all\n",
        "        if not twins_count:\n",
        "            elim_tuples.add(p)\n",
        "    return elim_tuples"
      ]
    },
    {
      "cell_type": "code",
      "execution_count": null,
      "metadata": {
        "cellView": "form",
        "id": "NP2LrVkRGmUp"
      },
      "outputs": [],
      "source": [
        "#@title N Princes Elimination\n",
        "def n_princes_elimination(a, n, sums):\n",
        "    if len(sums) > n:\n",
        "        return -1\n",
        "    all_tuples = set(all_partitions(n, sums))\n",
        "    questions = 1\n",
        "    while True:\n",
        "        eliminated = False\n",
        "        for i in range(n):\n",
        "            elim_tuples = get_elim_tuples(sums, all_tuples, i)\n",
        "            all_tuples -= elim_tuples\n",
        "            if a in elim_tuples:\n",
        "                eliminated = True\n",
        "                break\n",
        "            questions += 1\n",
        "        if eliminated:\n",
        "            break\n",
        "    return questions"
      ]
    },
    {
      "cell_type": "code",
      "execution_count": null,
      "metadata": {
        "cellView": "form",
        "id": "AZOIF3TG7DE5"
      },
      "outputs": [],
      "source": [
        "#@title All N Princes Elimination\n",
        "def all_n_princes_elimination(n, sums):\n",
        "    if len(sums) > n:\n",
        "        return {p:-1 for p in all_partitions(n, sums)}\n",
        "    all_tuples = set(all_partitions(n, sums))\n",
        "    all_questions = {}\n",
        "    questions = 1\n",
        "    while all_tuples:\n",
        "        for i in range(n):\n",
        "            elim_tuples = get_elim_tuples(sums, all_tuples, i)\n",
        "            all_tuples -= elim_tuples\n",
        "            all_questions.update({p:questions for p in elim_tuples})\n",
        "            questions += 1\n",
        "    return all_questions"
      ]
    },
    {
      "cell_type": "markdown",
      "metadata": {
        "id": "exjFqkSHkEKm"
      },
      "source": [
        "## Method 4: Visualization"
      ]
    },
    {
      "cell_type": "code",
      "execution_count": null,
      "metadata": {
        "id": "5-epSds4I2qQ"
      },
      "outputs": [],
      "source": [
        "%pip install ipympl"
      ]
    },
    {
      "cell_type": "code",
      "execution_count": null,
      "metadata": {
        "id": "2SYjsGWZkQGn"
      },
      "outputs": [],
      "source": [
        "import numpy as np\n",
        "\n",
        "import matplotlib as mpl\n",
        "import matplotlib.pyplot as plt\n",
        "from mpl_toolkits.mplot3d import Axes3D\n",
        "\n",
        "from ipywidgets import interactive\n",
        "import ipywidgets as widgets\n",
        "from IPython.display import display, HTML\n",
        "import ipympl\n",
        "\n",
        "from google.colab import output, files\n",
        "output.enable_custom_widget_manager()"
      ]
    },
    {
      "cell_type": "code",
      "source": [
        "from abc import ABC, abstractmethod\n",
        "\n",
        "class Visualization:\n",
        "    def __init__(self, *args, **kwargs):\n",
        "        self.init_widgets(*args, **kwargs)\n",
        "        self.init_plot()\n",
        "        self.display_widgets()\n",
        "\n",
        "    @abstractmethod\n",
        "    def init_widgets(self, *args, **kwargs):\n",
        "        pass\n",
        "\n",
        "    @abstractmethod\n",
        "    def init_plot(self):\n",
        "        pass\n",
        "\n",
        "    @abstractmethod\n",
        "    def setup_plot(self):\n",
        "        pass\n",
        "\n",
        "    @abstractmethod\n",
        "    def draw_plot(self, *args, **kwargs):\n",
        "        pass\n",
        "\n",
        "    @abstractmethod\n",
        "    def display_widgets(self):\n",
        "        pass"
      ],
      "metadata": {
        "id": "C2e5XYul0SX6"
      },
      "execution_count": null,
      "outputs": []
    },
    {
      "cell_type": "code",
      "execution_count": null,
      "metadata": {
        "cellView": "form",
        "id": "UQKs7zPy_jCv"
      },
      "outputs": [],
      "source": [
        "#@title 2d Visualization\n",
        "%matplotlib widget\n",
        "display(HTML('''<link rel=\"stylesheet\" href=\"https://stackpath.bootstrapcdn.com/font-awesome/4.7.0/css/font-awesome.min.css\"> '''))\n",
        "\n",
        "class Visualization2d(Visualization):\n",
        "    def __init__(self, s1, s2, limit):\n",
        "        super().__init__(s1, s2, limit)\n",
        "\n",
        "    def init_widgets(self, s1, s2, limit):\n",
        "        self.limit = limit\n",
        "        self.s1_slider = widgets.IntSlider(\n",
        "            description='s1', value=s1,\n",
        "            min=1, max=limit\n",
        "        )\n",
        "        self.s2_slider = widgets.IntSlider(\n",
        "            description='s2', value=s2,\n",
        "            min=1, max=limit\n",
        "        )\n",
        "        self.step_slider = widgets.IntSlider(description='step')\n",
        "        self.play_cntrl = widgets.Play(interval=500)\n",
        "        widgets.link((self.step_slider, 'value'), (self.play_cntrl, 'value'))\n",
        "        widgets.link((self.step_slider, 'max'), (self.play_cntrl, 'max'))\n",
        "\n",
        "    def init_plot(self):\n",
        "        plt.close('all') # only one viz at a time\n",
        "        self.fig, self.ax = plt.subplots()\n",
        "\n",
        "    def update(self, s1, s2):\n",
        "        questions = all_two_princes_elimination(s1, s2)\n",
        "        rounds = max(questions.values())\n",
        "        self.points = [[] for _ in range(rounds+1)]\n",
        "        for i in range(rounds+1):\n",
        "            self.points[i] = [p for p,q in questions.items() if q > i]\n",
        "        self.step_slider.max = rounds\n",
        "\n",
        "    def setup_plot(self):\n",
        "        self.ax.cla()\n",
        "        self.ax.set_title('Prince and Princess 2d')\n",
        "        self.ax.set_xlabel('Prince $A$')\n",
        "        self.ax.set_ylabel('Prince $B$')\n",
        "        self.ax.set_xlim(0, self.limit)\n",
        "        self.ax.set_ylim(0, self.limit)\n",
        "        self.ax.set_xticks(np.arange(self.limit+1))\n",
        "        self.ax.set_yticks(np.arange(self.limit+1))\n",
        "        self.ax.grid(True, ls=':', lw=0.5, c='gray')\n",
        "\n",
        "    def draw_plot(self, s1, s2, step):\n",
        "        self.setup_plot()\n",
        "        p1 = np.asarray(list(filter(lambda p: sum(p) == s1, self.points[step])))\n",
        "        p2 = np.asarray(list(filter(lambda p: sum(p) == s2, self.points[step])))\n",
        "        if np.any(p1):\n",
        "            self.ax.scatter(\n",
        "                x=p1[:,0], y=p1[:,1],\n",
        "                c='b', s=72, label='$S_1$',\n",
        "                marker='o', zorder=2\n",
        "            )\n",
        "        if np.any(p2):\n",
        "            self.ax.scatter(\n",
        "                x=p2[:,0], y=p2[:,1],\n",
        "                c='r', s=72, label='$S_2$',\n",
        "                marker='s', zorder=2\n",
        "            )\n",
        "        if any([np.any(p1), np.any(p2)]):\n",
        "            self.ax.legend(fontsize=16)\n",
        "        self.fig.canvas.draw()\n",
        "\n",
        "    def display_widgets(self):\n",
        "        self.update(self.s1_slider.value, self.s2_slider.value)\n",
        "        interactive(self.update, s1=self.s1_slider, s2=self.s2_slider)\n",
        "        display(widgets.VBox([\n",
        "            interactive(\n",
        "                self.draw_plot,\n",
        "                s1=self.s1_slider,\n",
        "                s2=self.s2_slider,\n",
        "                step=self.step_slider,\n",
        "            ),\n",
        "            self.play_cntrl,\n",
        "        ]))\n",
        "\n",
        "Visualization2d(8, 11, 11);"
      ]
    },
    {
      "cell_type": "code",
      "execution_count": null,
      "metadata": {
        "cellView": "form",
        "id": "_EvZHwHKltIf"
      },
      "outputs": [],
      "source": [
        "#@title 3d Visualization\n",
        "%matplotlib widget\n",
        "display(HTML('''<link rel=\"stylesheet\" href=\"https://stackpath.bootstrapcdn.com/font-awesome/4.7.0/css/font-awesome.min.css\"> '''))\n",
        "\n",
        "class Visualization3d(Visualization):\n",
        "    def __init__(self, s1, s2, s3, limit):\n",
        "        super().__init__(s1, s2, s3, limit)\n",
        "\n",
        "    def init_widgets(self, s1, s2, s3, limit):\n",
        "        self.limit = limit\n",
        "        self.s1_slider = widgets.IntSlider(\n",
        "            description='s1', value=s1,\n",
        "            min=1, max=limit\n",
        "        )\n",
        "        self.s2_slider = widgets.IntSlider(\n",
        "            description='s2', value=s2,\n",
        "            min=1, max=limit\n",
        "        )\n",
        "        self.s3_slider = widgets.IntSlider(\n",
        "            description='s3', value=s3,\n",
        "            min=1, max=limit\n",
        "        )\n",
        "        self.step_slider = widgets.IntSlider(description='step')\n",
        "        self.play_cntrl = widgets.Play(interval=500)\n",
        "        widgets.link((self.step_slider, 'value'), (self.play_cntrl, 'value'))\n",
        "        widgets.link((self.step_slider, 'max'), (self.play_cntrl, 'max'))\n",
        "\n",
        "    def init_plot(self):\n",
        "        plt.close('all') # only one viz at a time\n",
        "        self.fig = plt.figure()\n",
        "        self.ax = self.fig.add_subplot(projection='3d')\n",
        "\n",
        "    def update(self, s1, s2, s3):\n",
        "        questions = all_n_princes_elimination(3, (s1, s2, s3))\n",
        "        rounds = max(questions.values())\n",
        "        self.points = [[] for _ in range(rounds+1)]\n",
        "        for i in range(rounds+1):\n",
        "            self.points[i] = [p for p,q in questions.items() if q > i]\n",
        "        self.step_slider.max = rounds\n",
        "        self.step_slider.value = min(self.step_slider.value, rounds)\n",
        "\n",
        "    def setup_plot(self):\n",
        "        self.ax.cla()\n",
        "        self.ax.set_title('Prince and Princess 3d')\n",
        "        self.ax.set_xlabel('Prince $A$')\n",
        "        self.ax.set_ylabel('Prince $B$')\n",
        "        self.ax.set_zlabel('Prince $C$')\n",
        "        self.ax.set_xlim(0, self.limit)\n",
        "        self.ax.set_ylim(0, self.limit)\n",
        "        self.ax.set_zlim(0, self.limit)\n",
        "        self.ax.set_xticks(np.arange(self.limit+1))\n",
        "        self.ax.set_yticks(np.arange(self.limit+1))\n",
        "        self.ax.set_zticks(np.arange(self.limit+1))\n",
        "        self.ax.grid(True, ls=':', lw=0.5, c='gray')\n",
        "\n",
        "    def draw_plot(self, s1, s2, s3, step):\n",
        "        p1 = np.asarray(list(filter(lambda p: np.sum(p) == s1, self.points[step])))\n",
        "        p2 = np.asarray(list(filter(lambda p: np.sum(p) == s2, self.points[step])))\n",
        "        p3 = np.asarray(list(filter(lambda p: np.sum(p) == s3, self.points[step])))\n",
        "        self.setup_plot()\n",
        "        if np.any(p1):\n",
        "            self.ax.scatter3D(\n",
        "                p1[:,0], p1[:,1], p1[:,2],\n",
        "                c='b', s=48, marker='o', label='$S_1$'\n",
        "            )\n",
        "        if np.any(p2):\n",
        "            self.ax.scatter3D(\n",
        "                p2[:,0], p2[:,1], p2[:,2],\n",
        "                c='r', s=48, marker='s', label='$S_2$'\n",
        "            )\n",
        "        if np.any(p3):\n",
        "            self.ax.scatter3D(\n",
        "                p3[:,0], p3[:,1], p3[:,2],\n",
        "                c='g', s=48, marker='^', label='$S_3$'\n",
        "            )\n",
        "        if any([np.any(p1), np.any(p2), np.any(p3)]):\n",
        "            self.ax.legend(fontsize=12)\n",
        "        self.fig.canvas.draw()\n",
        "\n",
        "    def display_widgets(self):\n",
        "        self.update(self.s1_slider.value, self.s2_slider.value, self.s3_slider.value)\n",
        "        interactive(self.update, s1=self.s1_slider, s2=self.s2_slider, s3=self.s3_slider)\n",
        "        display(widgets.VBox([\n",
        "            interactive(\n",
        "                self.draw_plot,\n",
        "                s1=self.s1_slider,\n",
        "                s2=self.s2_slider,\n",
        "                s3=self.s3_slider,\n",
        "                step=self.step_slider,\n",
        "            ),\n",
        "            self.play_cntrl,\n",
        "        ]))\n",
        "\n",
        "Visualization3d(6, 8, 11, 12);"
      ]
    },
    {
      "cell_type": "markdown",
      "metadata": {
        "id": "VnbsqnelntVm"
      },
      "source": [
        "## Testing"
      ]
    },
    {
      "cell_type": "code",
      "execution_count": null,
      "metadata": {
        "cellView": "form",
        "id": "ahJ4uyvAv7P0"
      },
      "outputs": [],
      "source": [
        "#@title Test Suite\n",
        "\n",
        "# Compute difference between two sets of results X, Y\n",
        "def diff_pairs(X, Y):\n",
        "    pairs = set(X.keys()).union(Y.keys())\n",
        "    diff = {}\n",
        "    for p in pairs:\n",
        "        x = X.get(p, 0)\n",
        "        y = Y.get(p, 0)\n",
        "        if x != y:\n",
        "            diff[p] = (x, y)\n",
        "    return diff\n",
        "\n",
        "# Test algorithm f1 against f2, for one pair s1, s2\n",
        "def test_case(f1, f2, s1, s2, *, details=True):\n",
        "    diff = diff_pairs(f1(s1, s2), f2(s1, s2))\n",
        "    if details:\n",
        "        if diff:\n",
        "            print(f'Failing s1={s1}, s2={s2} ❌')\n",
        "            print('----------------------------')\n",
        "            for ((a, b), (x, y)) in diff.items():\n",
        "                print(f'a={a}\\tb={b}\\tf1={x}\\tf2={y}')\n",
        "        else:\n",
        "            print(f'Passing s1={s1}, s2={s2} ✔️')\n",
        "    return not diff\n",
        "\n",
        "# Test algorithm f1 against f2, for many pairs s1, s2\n",
        "def test_suite(f1, f2, S=200, *, details=True):\n",
        "    verdicts = [\n",
        "        test_case(f1, f2, s1, s2, details=details)\n",
        "        for s1 in range(1, S)\n",
        "        for s2 in range(s1+1, S+1)\n",
        "    ]\n",
        "    all, miss = 0, 0\n",
        "    for result in verdicts:\n",
        "        all += 1\n",
        "        miss += not result\n",
        "    if miss:\n",
        "        print(f'Failed {miss}/{all} test cases ❌\\n')\n",
        "    else:\n",
        "        print(f'Passed {all}/{all} test cases ✔️\\n')"
      ]
    },
    {
      "cell_type": "code",
      "execution_count": null,
      "metadata": {
        "cellView": "form",
        "colab": {
          "base_uri": "https://localhost:8080/"
        },
        "id": "V-SV_17U84KR",
        "outputId": "3ae74b67-9d44-4c75-8ee3-e70601da0c3a"
      },
      "outputs": [
        {
          "name": "stdout",
          "output_type": "stream",
          "text": [
            "Passed 79800/79800 test cases ✔️\n",
            "\n",
            "CPU times: user 1min 49s, sys: 244 ms, total: 1min 50s\n",
            "Wall time: 1min 51s\n"
          ]
        }
      ],
      "source": [
        "#@title Decision Tree v. Questions\n",
        "%%time\n",
        "test_suite(\n",
        "    all_two_princes_decision_tree,\n",
        "    all_two_princes_questions,\n",
        "    S=400, details=False\n",
        ")\n"
      ]
    },
    {
      "cell_type": "code",
      "execution_count": null,
      "metadata": {
        "colab": {
          "base_uri": "https://localhost:8080/"
        },
        "id": "S9mgcwBt7-J5",
        "outputId": "a9dfcffc-1edc-413b-c972-de4c706162ac",
        "cellView": "form"
      },
      "outputs": [
        {
          "name": "stdout",
          "output_type": "stream",
          "text": [
            "Passed 79800/79800 test cases ✔️\n",
            "\n",
            "CPU times: user 2min 18s, sys: 343 ms, total: 2min 18s\n",
            "Wall time: 2min 19s\n"
          ]
        }
      ],
      "source": [
        "#@title Decision Tree v. Two Princes Elimination\n",
        "%%time\n",
        "test_suite(\n",
        "    all_two_princes_decision_tree,\n",
        "    all_two_princes_elimination,\n",
        "    S=400, details=False\n",
        ")"
      ]
    },
    {
      "cell_type": "code",
      "execution_count": null,
      "metadata": {
        "colab": {
          "background_save": true
        },
        "id": "vJnlbzNFPjiu",
        "outputId": "f0b6c19c-733c-419f-d704-1fd93a2a7771",
        "cellView": "form"
      },
      "outputs": [
        {
          "name": "stdout",
          "output_type": "stream",
          "text": [
            "Passed 79800/79800 test cases ✔️\n",
            "\n",
            "CPU times: user 5min 14s, sys: 564 ms, total: 5min 15s\n",
            "Wall time: 5min 19s\n"
          ]
        }
      ],
      "source": [
        "#@title Two Princes Elimination v. N Princes Elimination\n",
        "%%time\n",
        "test_suite(\n",
        "    all_two_princes_elimination,\n",
        "    lambda s1, s2: all_n_princes_elimination(2, (s1, s2)),\n",
        "    S=400, details=False\n",
        ")"
      ]
    },
    {
      "cell_type": "markdown",
      "metadata": {
        "id": "NwIYWLO2PW4x"
      },
      "source": [
        "## Performance Analysis"
      ]
    },
    {
      "cell_type": "code",
      "source": [
        "def get_ops(func):\n",
        "    def wrapper(a, b, s1, s2):\n",
        "        stats = {}\n",
        "        func(a, b, s1, s2, stats)\n",
        "        return stats['ops']\n",
        "    return wrapper\n",
        "\n",
        "two_princes_decision_tree_ops = get_ops(two_princes_decision_tree)\n",
        "two_princes_questions_ops = get_ops(two_princes_questions)\n",
        "two_princes_elimination_ops = get_ops(two_princes_elimination)"
      ],
      "metadata": {
        "id": "uQ2Qe6HvRTmr"
      },
      "execution_count": null,
      "outputs": []
    },
    {
      "cell_type": "code",
      "execution_count": null,
      "metadata": {
        "cellView": "form",
        "id": "bGcuhlQrDjkD"
      },
      "outputs": [],
      "source": [
        "#@title Experiment 1 & 2: Vary a and b\n",
        "%matplotlib widget\n",
        "display(HTML('''<link rel=\"stylesheet\" href=\"https://stackpath.bootstrapcdn.com/font-awesome/4.7.0/css/font-awesome.min.css\"> '''))\n",
        "\n",
        "class PerformancePlotAB(Visualization):\n",
        "    def __init__(self, s1, s2, limit):\n",
        "        super().__init__(s1, s2, limit)\n",
        "\n",
        "    def init_widgets(self, s1, s2, limit):\n",
        "        self.s1_slider = widgets.IntSlider(\n",
        "            description='s1', value=s1,\n",
        "            min=2, max=limit\n",
        "        )\n",
        "        self.s2_slider = widgets.IntSlider(\n",
        "            description='s2', value=s2,\n",
        "            min=2, max=limit\n",
        "        )\n",
        "\n",
        "    def init_plot(self):\n",
        "        plt.close('all')\n",
        "        self.fig, self.ax = plt.subplots()\n",
        "\n",
        "    def setup_plot(self):\n",
        "        s1, s2 = self.s1_slider.value, self.s2_slider.value\n",
        "        self.ax.cla()\n",
        "        self.ax.set_title(f'Performance comparison ($a+b=S_1={s1}$, $S_2={s2}$)')\n",
        "        self.ax.set_xlabel('$a$')\n",
        "        self.ax.set_ylabel('Number of comparisons')\n",
        "        self.ax.set_yscale('log', base=2)\n",
        "        self.ax.grid(True, ls=':', lw=0.2, c='gray')\n",
        "\n",
        "    def draw_plot(self, s1, s2):\n",
        "        self.setup_plot()\n",
        "        a = np.arange(1, s1)\n",
        "        elimination_ops = np.empty((len(a,)), dtype=np.int32)\n",
        "        decision_ops = np.empty((len(a,)), dtype=np.int32)\n",
        "        questions_ops = np.empty((len(a,)), dtype=np.int32)\n",
        "\n",
        "        for i in range(len(a)):\n",
        "            elimination_ops[i] = two_princes_elimination_ops(a[i], s1-a[i], s1, s2)\n",
        "            decision_ops[i] = two_princes_decision_tree_ops(a[i], s1-a[i], s1, s2)\n",
        "            questions_ops[i] = two_princes_questions_ops(a[i], s1-a[i], s1, s2)\n",
        "\n",
        "        max_pw = int(np.ceil(np.log2(max(elimination_ops)))) + 1\n",
        "        self.ax.set_xticks([1] + list(range(10, s1-1, 10)) + [s1-1])\n",
        "        self.ax.set_yticks([1<<i for i in range(0, max_pw)])\n",
        "\n",
        "        self.ax.plot(a, elimination_ops, c='r', ls=(0, (5, 1)), lw=2., label='Elimination')\n",
        "        self.ax.plot(a, decision_ops, c='b', ls=(5, (10, 3)), lw=2., label='Decision tree')\n",
        "        self.ax.plot(a, questions_ops, c='g', ls=(0, ()), lw=2., label='Questions')\n",
        "        self.ax.legend(bbox_to_anchor=(0.5, 0.6), loc='center', borderaxespad=0)\n",
        "        self.fig.canvas.draw()\n",
        "\n",
        "    def display_widgets(self):\n",
        "        self.draw_plot(self.s1_slider.value, self.s2_slider.value)\n",
        "        display(interactive(\n",
        "            self.draw_plot,\n",
        "            {\n",
        "                'manual': True,\n",
        "                'manual_name': 'Run',\n",
        "            },\n",
        "            s1=self.s1_slider,\n",
        "            s2=self.s2_slider\n",
        "        ))\n",
        "\n",
        "PerformancePlotAB(100, 101, 200);"
      ]
    },
    {
      "cell_type": "code",
      "execution_count": null,
      "metadata": {
        "id": "C5m3WIulRVzZ",
        "cellView": "form"
      },
      "outputs": [],
      "source": [
        "#@title Experiment 3: Vary S1\n",
        "%matplotlib widget\n",
        "display(HTML('''<link rel=\"stylesheet\" href=\"https://stackpath.bootstrapcdn.com/font-awesome/4.7.0/css/font-awesome.min.css\"> '''))\n",
        "\n",
        "class PerformancePlotS1(Visualization):\n",
        "    def __init__(self, s2, limit):\n",
        "        super().__init__(s2, limit)\n",
        "\n",
        "    def init_widgets(self, s2, limit):\n",
        "        self.s2_slider = widgets.IntSlider(\n",
        "            description='s2', value=s2,\n",
        "            min=2, max=limit\n",
        "        )\n",
        "\n",
        "    def init_plot(self):\n",
        "        plt.close('all')\n",
        "        self.fig, self.ax = plt.subplots()\n",
        "\n",
        "    def setup_plot(self):\n",
        "        self.ax.cla()\n",
        "        self.ax.set_title(f'Performance comparison ($S_2={self.s2_slider.value}$)')\n",
        "        self.ax.set_xlabel('$S_1$')\n",
        "        self.ax.set_ylabel('Number of comparisons')\n",
        "        self.ax.set_yscale('log', base=2)\n",
        "        self.ax.grid(True, ls=':', lw=0.2, c='gray')\n",
        "\n",
        "    def draw_plot(self, s2):\n",
        "        self.setup_plot()\n",
        "        s1 = np.arange(2, s2)\n",
        "        elimination_ops = np.empty((len(s1,)), dtype=np.int32)\n",
        "        decision_ops = np.empty((len(s1,)), dtype=np.int32)\n",
        "        questions_ops = np.empty((len(s1,)), dtype=np.int32)\n",
        "\n",
        "        for i in range(len(s1)):\n",
        "            a, b = int(np.floor(s1[i] / 2)), int(np.ceil(s1[i] / 2))\n",
        "            elimination_ops[i] = two_princes_elimination_ops(a, b, s1[i], s2)\n",
        "            decision_ops[i] = two_princes_decision_tree_ops(a, b, s1[i], s2)\n",
        "            questions_ops[i] = two_princes_questions_ops(a, b, s1[i], s2)\n",
        "\n",
        "        max_pw = int(np.ceil(np.log2(elimination_ops[-1]))) + 1\n",
        "        self.ax.set_xticks([2] + list(range(10, s2-1, 10)) + [s2-1])\n",
        "        self.ax.set_yticks([1<<i for i in range(0, max_pw)])\n",
        "\n",
        "        self.ax.plot(s1, elimination_ops, c='r', ls=(0, (5, 1)), lw=2., label='Elimination')\n",
        "        self.ax.plot(s1, decision_ops, c='b', ls=(5, (10, 3)), lw=2., label='Decision tree')\n",
        "        self.ax.plot(s1, questions_ops, c='g', ls=(0, ()), lw=2., label='Questions')\n",
        "        self.ax.axvline(x=s2, c='black', ls=':', lw=3.)\n",
        "\n",
        "        self.ax.legend(loc='upper left')\n",
        "        self.fig.canvas.draw()\n",
        "\n",
        "    def display_widgets(self):\n",
        "        self.draw_plot(self.s2_slider.value)\n",
        "        display(interactive(\n",
        "            self.draw_plot,\n",
        "            {\n",
        "                'manual': True,\n",
        "                'manual_name': 'Run',\n",
        "            },\n",
        "            s2=self.s2_slider\n",
        "        ))\n",
        "\n",
        "PerformancePlotS1(100, 200);"
      ]
    },
    {
      "cell_type": "code",
      "source": [
        "#@title Experiment 4: Vary S2\n",
        "%matplotlib widget\n",
        "display(HTML('''<link rel=\"stylesheet\" href=\"https://stackpath.bootstrapcdn.com/font-awesome/4.7.0/css/font-awesome.min.css\"> '''))\n",
        "\n",
        "class PerformancePlotS2(Visualization):\n",
        "    def __init__(self, s1, limit):\n",
        "        super().__init__(s1, limit)\n",
        "\n",
        "    def init_widgets(self, s1, limit):\n",
        "        self.s1_slider = widgets.IntSlider(\n",
        "            description='s1', value=s1,\n",
        "            min=2, max=limit\n",
        "        )\n",
        "\n",
        "    def init_plot(self):\n",
        "        plt.close('all')\n",
        "        self.fig, self.ax = plt.subplots()\n",
        "\n",
        "    def setup_plot(self):\n",
        "        self.ax.cla()\n",
        "        self.ax.set_title(f'Performance comparison ($S_1={self.s1_slider.value}$)')\n",
        "        self.ax.set_xlabel('$S_2$')\n",
        "        self.ax.set_ylabel('Number of comparisons')\n",
        "        self.ax.set_yscale('log', base=2)\n",
        "        self.ax.grid(True, ls=':', lw=0.2, c='gray')\n",
        "\n",
        "    def draw_plot(self, s1):\n",
        "        self.setup_plot()\n",
        "        s2 = np.arange(s1+1, 2*s1+1)\n",
        "        elimination_ops = np.empty((len(s2,)), dtype=np.int32)\n",
        "        decision_ops = np.empty((len(s2,)), dtype=np.int32)\n",
        "        questions_ops = np.empty((len(s2,)), dtype=np.int32)\n",
        "\n",
        "        for i in range(len(s2)):\n",
        "            a, b = int(np.floor(s1 / 2)), int(np.ceil(s1 / 2))\n",
        "            elimination_ops[i] = two_princes_elimination_ops(a, b, s1, s2[i])\n",
        "            decision_ops[i] = two_princes_decision_tree_ops(a, b, s1, s2[i])\n",
        "            questions_ops[i] = two_princes_questions_ops(a, b, s1, s2[i])\n",
        "\n",
        "        max_pw = int(np.ceil(np.log2(elimination_ops[0]))) + 1\n",
        "        self.ax.set_xticks([s1+1] + list(range(10*((s1+12)//10), 2*s1, 10)) + [2*s1])\n",
        "        self.ax.set_yticks([1<<i for i in range(0, max_pw)])\n",
        "\n",
        "        self.ax.plot(s2, elimination_ops, c='r', ls=(0, (5, 1)), lw=2., label='Elimination')\n",
        "        self.ax.plot(s2, decision_ops, c='b', ls=(5, (10, 3)), lw=2., label='Decision tree')\n",
        "        self.ax.plot(s2, questions_ops, c='g', ls=(0, ()), lw=2., label='Questions')\n",
        "        self.ax.axvline(x=s1, c='black', ls=':', lw=3.)\n",
        "\n",
        "        self.ax.legend(loc='upper right')\n",
        "        self.fig.canvas.draw()\n",
        "\n",
        "    def display_widgets(self):\n",
        "        self.draw_plot(self.s1_slider.value)\n",
        "        display(interactive(\n",
        "            self.draw_plot,\n",
        "            {\n",
        "                'manual': True,\n",
        "                'manual_name': 'Run',\n",
        "            },\n",
        "            s1=self.s1_slider\n",
        "        ))\n",
        "\n",
        "PerformancePlotS2(100, 200);"
      ],
      "metadata": {
        "id": "uTUD17OTYU1I",
        "cellView": "form"
      },
      "execution_count": null,
      "outputs": []
    }
  ],
  "metadata": {
    "colab": {
      "provenance": [],
      "include_colab_link": true
    },
    "kernelspec": {
      "display_name": "Python 3",
      "name": "python3"
    },
    "language_info": {
      "name": "python"
    }
  },
  "nbformat": 4,
  "nbformat_minor": 0
}